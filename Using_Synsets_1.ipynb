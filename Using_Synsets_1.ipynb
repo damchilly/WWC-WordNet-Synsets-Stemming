{
 "cells": [
  {
   "cell_type": "markdown",
   "metadata": {},
   "source": [
    "# WWC - Semantic Similarity\n",
    "\n",
    "In this session we will use NLTK synset to find semantic similarity between two words.\n",
    "\n",
    "**WordNet** is a lexical database for the English language. In other words, it is a dictionary designed specifically for natural language processing\n",
    "\n",
    "NLTK comes with a simple interface for looking up for words in **WordNet**. What you get is a simple list of instances, which are groupings of synonymous words that express the same concept. Many words have only one **synset**, but some have several.\n",
    "\n",
    "Let's explore some of the properties and methods of a synset."
   ]
  },
  {
   "cell_type": "code",
   "execution_count": 1,
   "metadata": {
    "collapsed": true
   },
   "outputs": [],
   "source": [
    "from nltk.corpus import wordnet"
   ]
  },
  {
   "cell_type": "markdown",
   "metadata": {},
   "source": [
    "Each synset in the list has a number of attributes you can use to learn more about it.\n",
    "The **name** attribute will give you a unique name for the synset which you can use to get the synset directly."
   ]
  },
  {
   "cell_type": "code",
   "execution_count": 2,
   "metadata": {
    "collapsed": true
   },
   "outputs": [],
   "source": [
    "syn = wordnet.synsets('cookbook')[0]"
   ]
  },
  {
   "cell_type": "code",
   "execution_count": 5,
   "metadata": {
    "collapsed": false
   },
   "outputs": [
    {
     "data": {
      "text/plain": [
       "'cookbook.n.01'"
      ]
     },
     "execution_count": 5,
     "metadata": {},
     "output_type": "execute_result"
    }
   ],
   "source": [
    "syn.name()"
   ]
  },
  {
   "cell_type": "code",
   "execution_count": 6,
   "metadata": {
    "collapsed": false
   },
   "outputs": [
    {
     "data": {
      "text/plain": [
       "'a book of recipes and cooking directions'"
      ]
     },
     "execution_count": 6,
     "metadata": {},
     "output_type": "execute_result"
    }
   ],
   "source": [
    "syn.definition()"
   ]
  },
  {
   "cell_type": "markdown",
   "metadata": {},
   "source": [
    "### Getting examples\n",
    "\n",
    "lemma: A heading indicating the subject or argument of a literary composition, an annotation, or a dictionary entry. Synsets can provide examples on how to use a word in a sentence."
   ]
  },
  {
   "cell_type": "code",
   "execution_count": 9,
   "metadata": {
    "collapsed": false
   },
   "outputs": [
    {
     "data": {
      "text/plain": [
       "['cooking can be a great art',\n",
       " 'people are needed who have experience in cookery',\n",
       " 'he left the preparation of meals to his wife']"
      ]
     },
     "execution_count": 9,
     "metadata": {},
     "output_type": "execute_result"
    }
   ],
   "source": [
    "wordnet.synsets('cooking')[0].examples()"
   ]
  },
  {
   "cell_type": "code",
   "execution_count": 11,
   "metadata": {
    "collapsed": true
   },
   "outputs": [],
   "source": [
    "synonyms = []\n",
    "antonyms = []"
   ]
  },
  {
   "cell_type": "code",
   "execution_count": 12,
   "metadata": {
    "collapsed": false
   },
   "outputs": [
    {
     "name": "stdout",
     "output_type": "stream",
     "text": [
      "l:  Lemma('good.n.01.good')\n",
      "l:  Lemma('good.n.02.good')\n",
      "l:  Lemma('good.n.02.goodness')\n",
      "l:  Lemma('good.n.03.good')\n",
      "l:  Lemma('good.n.03.goodness')\n",
      "l:  Lemma('commodity.n.01.commodity')\n",
      "l:  Lemma('commodity.n.01.trade_good')\n",
      "l:  Lemma('commodity.n.01.good')\n",
      "l:  Lemma('good.a.01.good')\n",
      "l:  Lemma('full.s.06.full')\n",
      "l:  Lemma('full.s.06.good')\n",
      "l:  Lemma('good.a.03.good')\n",
      "l:  Lemma('estimable.s.02.estimable')\n",
      "l:  Lemma('estimable.s.02.good')\n",
      "l:  Lemma('estimable.s.02.honorable')\n",
      "l:  Lemma('estimable.s.02.respectable')\n",
      "l:  Lemma('beneficial.s.01.beneficial')\n",
      "l:  Lemma('beneficial.s.01.good')\n",
      "l:  Lemma('good.s.06.good')\n",
      "l:  Lemma('good.s.07.good')\n",
      "l:  Lemma('good.s.07.just')\n",
      "l:  Lemma('good.s.07.upright')\n",
      "l:  Lemma('adept.s.01.adept')\n",
      "l:  Lemma('adept.s.01.expert')\n",
      "l:  Lemma('adept.s.01.good')\n",
      "l:  Lemma('adept.s.01.practiced')\n",
      "l:  Lemma('adept.s.01.proficient')\n",
      "l:  Lemma('adept.s.01.skillful')\n",
      "l:  Lemma('adept.s.01.skilful')\n",
      "l:  Lemma('good.s.09.good')\n",
      "l:  Lemma('dear.s.02.dear')\n",
      "l:  Lemma('dear.s.02.good')\n",
      "l:  Lemma('dear.s.02.near')\n",
      "l:  Lemma('dependable.s.04.dependable')\n",
      "l:  Lemma('dependable.s.04.good')\n",
      "l:  Lemma('dependable.s.04.safe')\n",
      "l:  Lemma('dependable.s.04.secure')\n",
      "l:  Lemma('good.s.12.good')\n",
      "l:  Lemma('good.s.12.right')\n",
      "l:  Lemma('good.s.12.ripe')\n",
      "l:  Lemma('good.s.13.good')\n",
      "l:  Lemma('good.s.13.well')\n",
      "l:  Lemma('effective.s.04.effective')\n",
      "l:  Lemma('effective.s.04.good')\n",
      "l:  Lemma('effective.s.04.in_effect')\n",
      "l:  Lemma('effective.s.04.in_force')\n",
      "l:  Lemma('good.s.15.good')\n",
      "l:  Lemma('good.s.16.good')\n",
      "l:  Lemma('good.s.16.serious')\n",
      "l:  Lemma('good.s.17.good')\n",
      "l:  Lemma('good.s.17.sound')\n",
      "l:  Lemma('good.s.18.good')\n",
      "l:  Lemma('good.s.18.salutary')\n",
      "l:  Lemma('good.s.19.good')\n",
      "l:  Lemma('good.s.19.honest')\n",
      "l:  Lemma('good.s.20.good')\n",
      "l:  Lemma('good.s.20.undecomposed')\n",
      "l:  Lemma('good.s.20.unspoiled')\n",
      "l:  Lemma('good.s.20.unspoilt')\n",
      "l:  Lemma('good.s.21.good')\n",
      "l:  Lemma('well.r.01.well')\n",
      "l:  Lemma('well.r.01.good')\n",
      "l:  Lemma('thoroughly.r.02.thoroughly')\n",
      "l:  Lemma('thoroughly.r.02.soundly')\n",
      "l:  Lemma('thoroughly.r.02.good')\n"
     ]
    }
   ],
   "source": [
    "for syn in wordnet.synsets(\"good\"):\n",
    "    for l in syn.lemmas():\n",
    "        print(\"l: \",l)\n",
    "        synonyms.append(l.name())\n",
    "        if l.antonyms():\n",
    "            antonyms.append(l.antonyms()[0].name())"
   ]
  },
  {
   "cell_type": "code",
   "execution_count": 13,
   "metadata": {
    "collapsed": false
   },
   "outputs": [
    {
     "name": "stdout",
     "output_type": "stream",
     "text": [
      "{'thoroughly', 'upright', 'dear', 'beneficial', 'sound', 'expert', 'honest', 'just', 'goodness', 'unspoiled', 'in_effect', 'serious', 'secure', 'salutary', 'unspoilt', 'soundly', 'dependable', 'good', 'trade_good', 'commodity', 'full', 'skillful', 'well', 'near', 'right', 'honorable', 'proficient', 'skilful', 'safe', 'in_force', 'estimable', 'practiced', 'effective', 'undecomposed', 'adept', 'ripe', 'respectable'}\n"
     ]
    }
   ],
   "source": [
    "print(set(synonyms))"
   ]
  },
  {
   "cell_type": "code",
   "execution_count": 14,
   "metadata": {
    "collapsed": false
   },
   "outputs": [
    {
     "name": "stdout",
     "output_type": "stream",
     "text": [
      "{'evilness', 'evil', 'bad', 'badness', 'ill'}\n"
     ]
    }
   ],
   "source": [
    "print(set(antonyms))"
   ]
  },
  {
   "cell_type": "markdown",
   "metadata": {},
   "source": [
    "## Wu and Palmer Measure of Similarity\n",
    "\n",
    "To find semantic similarity we will use the Wu & Palmer measure (wup) that calculates similarity by considering the depths of the two concepts in the UMLS, along with the depth of the LCS The formula is score = 2*depth(lcs) / (depth(s1) + depth(s2)). This means that 0 < score <= 1. The score can never be zero because the depth of the LCS is never zero (the depth of the root of a taxonomy is one). The score is one if the two input concepts are the same.\n",
    "\n",
    "### How it works\n",
    "\n",
    "**wup_similarity** is short for Wu-Palmer Similarity, a scoring method based on how similar the words senses are where the synsets occur relative to each other in the hypernym tree. One of the core metrics used to calculate similarityis the shortest path distance between the two synsets and their common hypernym.\n"
   ]
  },
  {
   "cell_type": "code",
   "execution_count": 15,
   "metadata": {
    "collapsed": true
   },
   "outputs": [],
   "source": [
    "w1 = wordnet.synset(\"ship.n.01\")"
   ]
  },
  {
   "cell_type": "code",
   "execution_count": 16,
   "metadata": {
    "collapsed": true
   },
   "outputs": [],
   "source": [
    "w2 = wordnet.synset(\"boat.n.01\")"
   ]
  },
  {
   "cell_type": "code",
   "execution_count": 18,
   "metadata": {
    "collapsed": false
   },
   "outputs": [
    {
     "name": "stdout",
     "output_type": "stream",
     "text": [
      "0.9090909090909091\n"
     ]
    }
   ],
   "source": [
    "print(w1.wup_similarity(w2))"
   ]
  },
  {
   "cell_type": "code",
   "execution_count": 19,
   "metadata": {
    "collapsed": true
   },
   "outputs": [],
   "source": [
    "w3 = wordnet.synset(\"ship.n.01\")"
   ]
  },
  {
   "cell_type": "code",
   "execution_count": 20,
   "metadata": {
    "collapsed": true
   },
   "outputs": [],
   "source": [
    "w4 = wordnet.synset(\"car.n.01\")"
   ]
  },
  {
   "cell_type": "code",
   "execution_count": 22,
   "metadata": {
    "collapsed": false
   },
   "outputs": [
    {
     "name": "stdout",
     "output_type": "stream",
     "text": [
      "0.6956521739130435\n"
     ]
    }
   ],
   "source": [
    "print(w3.wup_similarity(w4))"
   ]
  },
  {
   "cell_type": "code",
   "execution_count": 23,
   "metadata": {
    "collapsed": true
   },
   "outputs": [],
   "source": [
    "w5 = wordnet.synset(\"ship.n.01\")"
   ]
  },
  {
   "cell_type": "code",
   "execution_count": 24,
   "metadata": {
    "collapsed": true
   },
   "outputs": [],
   "source": [
    "w6 = wordnet.synset(\"cactus.n.01\")"
   ]
  },
  {
   "cell_type": "code",
   "execution_count": 25,
   "metadata": {
    "collapsed": false
   },
   "outputs": [
    {
     "name": "stdout",
     "output_type": "stream",
     "text": [
      "0.38095238095238093\n"
     ]
    }
   ],
   "source": [
    "print(w5.wup_similarity(w6))"
   ]
  },
  {
   "cell_type": "code",
   "execution_count": 26,
   "metadata": {
    "collapsed": true
   },
   "outputs": [],
   "source": [
    "w7 = wordnet.synset(\"cat.n.01\")"
   ]
  },
  {
   "cell_type": "code",
   "execution_count": 27,
   "metadata": {
    "collapsed": false
   },
   "outputs": [
    {
     "name": "stdout",
     "output_type": "stream",
     "text": [
      "0.32\n"
     ]
    }
   ],
   "source": [
    "print(w5.wup_similarity(w7))"
   ]
  },
  {
   "cell_type": "code",
   "execution_count": 51,
   "metadata": {
    "collapsed": false
   },
   "outputs": [
    {
     "data": {
      "text/plain": [
       "Synset('vessel.n.02')"
      ]
     },
     "execution_count": 51,
     "metadata": {},
     "output_type": "execute_result"
    }
   ],
   "source": [
    "ref = w1.hypernyms()[0]  # Root\n",
    "ref"
   ]
  },
  {
   "cell_type": "code",
   "execution_count": 49,
   "metadata": {
    "collapsed": false
   },
   "outputs": [
    {
     "data": {
      "text/plain": [
       "1"
      ]
     },
     "execution_count": 49,
     "metadata": {},
     "output_type": "execute_result"
    }
   ],
   "source": [
    "w1_root = w1.shortest_path_distance(ref) # Distance between \"ship\" and \"vessel\"\n",
    "w1_root"
   ]
  },
  {
   "cell_type": "code",
   "execution_count": 50,
   "metadata": {
    "collapsed": false
   },
   "outputs": [
    {
     "data": {
      "text/plain": [
       "1"
      ]
     },
     "execution_count": 50,
     "metadata": {},
     "output_type": "execute_result"
    }
   ],
   "source": [
    "w2_root = w2.shortest_path_distance(ref) # Distance between \"boat\" and \"vessel\"\n",
    "w2_root"
   ]
  },
  {
   "cell_type": "code",
   "execution_count": 52,
   "metadata": {
    "collapsed": false
   },
   "outputs": [
    {
     "data": {
      "text/plain": [
       "2"
      ]
     },
     "execution_count": 52,
     "metadata": {},
     "output_type": "execute_result"
    }
   ],
   "source": [
    "w1.shortest_path_distance(w2)"
   ]
  },
  {
   "cell_type": "markdown",
   "metadata": {},
   "source": [
    "### CONCLUSION\n",
    "\n",
    "So *ship* and *boat* are similar since they are only one step away from the root hypernym, *vessel*, and therefore only two steps away from each other.\n",
    "\n",
    "### Exercise\n",
    "\n",
    "Calculate shortest path distance between ship and cactus.\n",
    "\n",
    "\n",
    "\n",
    "### USES\n",
    "\n",
    "You can use WUP similariry to rewrite/change words, correct words or find if two words are alike. "
   ]
  },
  {
   "cell_type": "code",
   "execution_count": 53,
   "metadata": {
    "collapsed": false
   },
   "outputs": [
    {
     "data": {
      "text/plain": [
       "13"
      ]
     },
     "execution_count": 53,
     "metadata": {},
     "output_type": "execute_result"
    }
   ],
   "source": [
    "w1.shortest_path_distance(w6) # distance between \"ship\" and \"cactus\""
   ]
  },
  {
   "cell_type": "markdown",
   "metadata": {},
   "source": [
    "Verbs can also be compared"
   ]
  },
  {
   "cell_type": "code",
   "execution_count": 54,
   "metadata": {
    "collapsed": true
   },
   "outputs": [],
   "source": [
    "cook = wordnet.synset(\"cook.v.01\")"
   ]
  },
  {
   "cell_type": "code",
   "execution_count": 55,
   "metadata": {
    "collapsed": true
   },
   "outputs": [],
   "source": [
    "bake = wordnet.synset(\"bake.v.02\")"
   ]
  },
  {
   "cell_type": "code",
   "execution_count": 56,
   "metadata": {
    "collapsed": false
   },
   "outputs": [
    {
     "data": {
      "text/plain": [
       "0.6666666666666666"
      ]
     },
     "execution_count": 56,
     "metadata": {},
     "output_type": "execute_result"
    }
   ],
   "source": [
    "cook.wup_similarity(bake)"
   ]
  },
  {
   "cell_type": "markdown",
   "metadata": {},
   "source": [
    "### Hypernyms\n",
    "\n",
    "Synsets are organized in a kind of inheritance tree. More abstract terms are knowns as hypernyms and more specific terms are hyponyms. This tree can be bre traced all the way up to the root hypernym.\n",
    "\n",
    "**Hypernyms** provide a way to categorize and group words based on their similarity to each other. The synset similarity. The synset similarity recipe details the functions used to calculate similarity based on the distance between two words inthe hypernym tree."
   ]
  },
  {
   "cell_type": "code",
   "execution_count": 34,
   "metadata": {
    "collapsed": false
   },
   "outputs": [],
   "source": [
    "syn = wordnet.synsets(\"cookbook\")[0]"
   ]
  },
  {
   "cell_type": "code",
   "execution_count": 35,
   "metadata": {
    "collapsed": false
   },
   "outputs": [
    {
     "data": {
      "text/plain": [
       "Synset('cookbook.n.01')"
      ]
     },
     "execution_count": 35,
     "metadata": {},
     "output_type": "execute_result"
    }
   ],
   "source": [
    "syn"
   ]
  },
  {
   "cell_type": "code",
   "execution_count": 36,
   "metadata": {
    "collapsed": false
   },
   "outputs": [
    {
     "data": {
      "text/plain": [
       "[Synset('reference_book.n.01')]"
      ]
     },
     "execution_count": 36,
     "metadata": {},
     "output_type": "execute_result"
    }
   ],
   "source": [
    "syn.hypernyms()    # Get cookbook hypernym"
   ]
  },
  {
   "cell_type": "code",
   "execution_count": 37,
   "metadata": {
    "collapsed": false
   },
   "outputs": [
    {
     "data": {
      "text/plain": [
       "[Synset('annual.n.02'),\n",
       " Synset('atlas.n.02'),\n",
       " Synset('cookbook.n.01'),\n",
       " Synset('directory.n.01'),\n",
       " Synset('encyclopedia.n.01'),\n",
       " Synset('handbook.n.01'),\n",
       " Synset('instruction_book.n.01'),\n",
       " Synset('source_book.n.01'),\n",
       " Synset('wordbook.n.01')]"
      ]
     },
     "execution_count": 37,
     "metadata": {},
     "output_type": "execute_result"
    }
   ],
   "source": [
    "syn.hypernyms()[0].hyponyms() # Get all the hyponyms comprised by this hypernym"
   ]
  },
  {
   "cell_type": "code",
   "execution_count": 38,
   "metadata": {
    "collapsed": false
   },
   "outputs": [
    {
     "data": {
      "text/plain": [
       "[Synset('entity.n.01')]"
      ]
     },
     "execution_count": 38,
     "metadata": {},
     "output_type": "execute_result"
    }
   ],
   "source": [
    "syn.root_hypernyms()"
   ]
  },
  {
   "cell_type": "markdown",
   "metadata": {},
   "source": [
    "1. \"Reference book\" is the hypernym of \"cookbook\"\n",
    "2. \"Cookbook\" is one hyponym of \"Refereence book\"\n",
    "3. All kinds of \"books\" have a common root \"Entity\" which an abstract term\n",
    "4. You can trace the path from the root to cookbook using the *hypernym_paths()* method"
   ]
  },
  {
   "cell_type": "code",
   "execution_count": 40,
   "metadata": {
    "collapsed": false
   },
   "outputs": [
    {
     "data": {
      "text/plain": [
       "[[Synset('entity.n.01'),\n",
       "  Synset('physical_entity.n.01'),\n",
       "  Synset('object.n.01'),\n",
       "  Synset('whole.n.02'),\n",
       "  Synset('artifact.n.01'),\n",
       "  Synset('creation.n.02'),\n",
       "  Synset('product.n.02'),\n",
       "  Synset('work.n.02'),\n",
       "  Synset('publication.n.01'),\n",
       "  Synset('book.n.01'),\n",
       "  Synset('reference_book.n.01'),\n",
       "  Synset('cookbook.n.01')]]"
      ]
     },
     "execution_count": 40,
     "metadata": {},
     "output_type": "execute_result"
    }
   ],
   "source": [
    "syn.hypernym_paths() # This is tree branch for \"cookbook\""
   ]
  },
  {
   "cell_type": "markdown",
   "metadata": {},
   "source": [
    "This method returns a list of lists, where each list starts at the root hypernym and ends with the original Synset. "
   ]
  },
  {
   "cell_type": "markdown",
   "metadata": {},
   "source": [
    "### Part-of-speech (POS)\n",
    "\n",
    "Synsets also has a simplified part-of-speech tag:\n",
    "\n",
    "1. Noun = n\n",
    "2. Adjective = a\n",
    "3. Adverb = r\n",
    "4. Verb = v\n",
    "\n",
    "These POS tags can be used for looking up specific *synsets* for a word. For example, the word **great** can be used as a noun or an adjective. In Wordnet,  **great** has one noun synset and six adjective synsets."
   ]
  },
  {
   "cell_type": "code",
   "execution_count": 42,
   "metadata": {
    "collapsed": false
   },
   "outputs": [
    {
     "data": {
      "text/plain": [
       "'n'"
      ]
     },
     "execution_count": 42,
     "metadata": {},
     "output_type": "execute_result"
    }
   ],
   "source": [
    "syn.pos()"
   ]
  },
  {
   "cell_type": "code",
   "execution_count": 43,
   "metadata": {
    "collapsed": false
   },
   "outputs": [
    {
     "data": {
      "text/plain": [
       "7"
      ]
     },
     "execution_count": 43,
     "metadata": {},
     "output_type": "execute_result"
    }
   ],
   "source": [
    "len(wordnet.synsets('great'))"
   ]
  },
  {
   "cell_type": "code",
   "execution_count": 44,
   "metadata": {
    "collapsed": false
   },
   "outputs": [
    {
     "data": {
      "text/plain": [
       "1"
      ]
     },
     "execution_count": 44,
     "metadata": {},
     "output_type": "execute_result"
    }
   ],
   "source": [
    "len(wordnet.synsets('great', pos ='n')) # Finding noun synsets"
   ]
  },
  {
   "cell_type": "code",
   "execution_count": 45,
   "metadata": {
    "collapsed": false
   },
   "outputs": [
    {
     "data": {
      "text/plain": [
       "6"
      ]
     },
     "execution_count": 45,
     "metadata": {},
     "output_type": "execute_result"
    }
   ],
   "source": [
    "len(wordnet.synsets('great', pos = 'a')) # Finding adjective synsets"
   ]
  },
  {
   "cell_type": "markdown",
   "metadata": {},
   "source": [
    "### CAVEAT\n",
    "\n",
    "While most nouns can be traced up to *object*, thereby providing a basis for similarity, many verbs do not share common hypernyms, making WordNet unable to calculate similarity.\n",
    "\n",
    "For example, if you were to use *synset* for *bake.v.01* here, instead of *bake.v.02*, the return value would be *None*. This is because the root hypernyms of the two synsets are different, with no overlapping paths. For this reason, you also cannot calculate similarity between words with different parts of speech.\n",
    "\n",
    "### Path and LCH similarity\n",
    "\n",
    "Other two similarity comparison are the path similarity and **Leacock Chodrow (LCH)** similarity.\n"
   ]
  },
  {
   "cell_type": "code",
   "execution_count": 58,
   "metadata": {
    "collapsed": false
   },
   "outputs": [
    {
     "data": {
      "text/plain": [
       "0.3333333333333333"
      ]
     },
     "execution_count": 58,
     "metadata": {},
     "output_type": "execute_result"
    }
   ],
   "source": [
    "w1.path_similarity(w2) # Path similarity between \"ship\" and \"boat\""
   ]
  },
  {
   "cell_type": "code",
   "execution_count": 59,
   "metadata": {
    "collapsed": false
   },
   "outputs": [
    {
     "data": {
      "text/plain": [
       "2.538973871058276"
      ]
     },
     "execution_count": 59,
     "metadata": {},
     "output_type": "execute_result"
    }
   ],
   "source": [
    "w1.lch_similarity(w2) # LCH similarity between \"ship\" and \"boat\""
   ]
  }
 ],
 "metadata": {
  "kernelspec": {
   "display_name": "Python 3",
   "language": "python",
   "name": "python3"
  },
  "language_info": {
   "codemirror_mode": {
    "name": "ipython",
    "version": 3
   },
   "file_extension": ".py",
   "mimetype": "text/x-python",
   "name": "python",
   "nbconvert_exporter": "python",
   "pygments_lexer": "ipython3",
   "version": "3.5.1"
  }
 },
 "nbformat": 4,
 "nbformat_minor": 0
}
